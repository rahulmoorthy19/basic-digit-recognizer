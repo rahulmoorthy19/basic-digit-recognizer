{
 "cells": [
  {
   "cell_type": "code",
   "execution_count": 1,
   "metadata": {},
   "outputs": [
    {
     "name": "stderr",
     "output_type": "stream",
     "text": [
      "/home/rahul/anaconda3/lib/python3.6/importlib/_bootstrap.py:205: RuntimeWarning: compiletime version 3.5 of module 'tensorflow.python.framework.fast_tensor_util' does not match runtime version 3.6\n",
      "  return f(*args, **kwds)\n",
      "/home/rahul/anaconda3/lib/python3.6/site-packages/h5py/__init__.py:34: FutureWarning: Conversion of the second argument of issubdtype from `float` to `np.floating` is deprecated. In future, it will be treated as `np.float64 == np.dtype(float).type`.\n",
      "  from ._conv import register_converters as _register_converters\n"
     ]
    }
   ],
   "source": [
    "import tensorflow as tf"
   ]
  },
  {
   "cell_type": "code",
   "execution_count": 2,
   "metadata": {
    "collapsed": true
   },
   "outputs": [],
   "source": [
    "from tensorflow.examples.tutorials.mnist import input_data"
   ]
  },
  {
   "cell_type": "code",
   "execution_count": 3,
   "metadata": {},
   "outputs": [
    {
     "name": "stdout",
     "output_type": "stream",
     "text": [
      "Extracting /home/rahul/machine learning/train-images-idx3-ubyte.gz\n",
      "Extracting /home/rahul/machine learning/train-labels-idx1-ubyte.gz\n",
      "Extracting /home/rahul/machine learning/t10k-images-idx3-ubyte.gz\n",
      "Extracting /home/rahul/machine learning/t10k-labels-idx1-ubyte.gz\n"
     ]
    }
   ],
   "source": [
    "mnist=input_data.read_data_sets(\"/home/rahul/machine learning\",one_hot=True)"
   ]
  },
  {
   "cell_type": "code",
   "execution_count": 4,
   "metadata": {
    "collapsed": true
   },
   "outputs": [],
   "source": [
    "x=tf.placeholder('float')\n",
    "y=tf.placeholder('float')"
   ]
  },
  {
   "cell_type": "code",
   "execution_count": 5,
   "metadata": {
    "collapsed": true
   },
   "outputs": [],
   "source": [
    "hidden_layer_1=500\n",
    "hidden_layer_2=500\n",
    "hidden_layer_3=500\n",
    "n_classes=10\n",
    "batch_size=100"
   ]
  },
  {
   "cell_type": "code",
   "execution_count": 6,
   "metadata": {
    "collapsed": true
   },
   "outputs": [],
   "source": [
    "def neural_network(data):\n",
    "    hidden_1_layer={'weights':tf.Variable(tf.random_normal([784,hidden_layer_1])),\n",
    "                    'biases':tf.Variable(tf.random_normal([hidden_layer_1]))}\n",
    "    hidden_2_layer={'weights':tf.Variable(tf.random_normal([hidden_layer_1,hidden_layer_2])),\n",
    "                    'biases':tf.Variable(tf.random_normal([hidden_layer_2]))}\n",
    "    hidden_3_layer={'weights':tf.Variable(tf.random_normal([hidden_layer_2,hidden_layer_3])),\n",
    "                    'biases':tf.Variable(tf.random_normal([hidden_layer_3]))}\n",
    "    output_layer={'weights':tf.Variable(tf.random_normal([hidden_layer_3,n_classes])),\n",
    "                    'biases':tf.Variable(tf.random_normal([n_classes]))}\n",
    "    \n",
    "    l1=tf.add(tf.matmul(data,hidden_1_layer['weights']),hidden_1_layer[\"biases\"])\n",
    "    l1=tf.nn.relu(l1)\n",
    "    \n",
    "    l2=tf.add(tf.matmul(l1,hidden_2_layer['weights']),hidden_2_layer[\"biases\"])\n",
    "    l2=tf.nn.relu(l2)\n",
    "    \n",
    "    l3=tf.add(tf.matmul(l2,hidden_3_layer['weights']),hidden_3_layer[\"biases\"])\n",
    "    l3=tf.nn.relu(l3)\n",
    "    \n",
    "    output=tf.add(tf.matmul(l3,output_layer['weights']),output_layer[\"biases\"])\n",
    "    return output"
   ]
  },
  {
   "cell_type": "code",
   "execution_count": 11,
   "metadata": {
    "collapsed": true
   },
   "outputs": [],
   "source": [
    "def train_neural_network(x):\n",
    "    prediction=neural_network(x)\n",
    "    cost=tf.reduce_mean(tf.nn.softmax_cross_entropy_with_logits(logits=prediction,labels=y))\n",
    "    optimizer=tf.train.AdamOptimizer().minimize(cost)\n",
    "    hm_epochs=10\n",
    "    with tf.Session() as sess:\n",
    "        sess.run(tf.initialize_all_variables())\n",
    "        for epoch in range(hm_epochs):\n",
    "            epoch_loss=0\n",
    "            for _ in range(int(mnist.train.num_examples/batch_size)):\n",
    "                epoch_x,epoch_y=mnist.train.next_batch(batch_size)\n",
    "                _,c=sess.run([optimizer,cost],feed_dict={x:epoch_x,y:epoch_y})\n",
    "                epoch_loss+=c\n",
    "            print(\"epoch:\",epoch,\"completed out of\",hm_epochs,\"loss:\",epoch_loss)\n",
    "        correct=tf.equal(tf.argmax(prediction,1),tf.argmax(y,1))\n",
    "        accuracy=tf.reduce_mean(tf.cast(correct,'float'))\n",
    "        print(\"accuracy:\",accuracy.eval({x:mnist.test.images,y:mnist.test.labels}))\n",
    "    "
   ]
  },
  {
   "cell_type": "code",
   "execution_count": 12,
   "metadata": {},
   "outputs": [
    {
     "name": "stdout",
     "output_type": "stream",
     "text": [
      "WARNING:tensorflow:From /home/rahul/anaconda3/lib/python3.6/site-packages/tensorflow/python/util/tf_should_use.py:107: initialize_all_variables (from tensorflow.python.ops.variables) is deprecated and will be removed after 2017-03-02.\n",
      "Instructions for updating:\n",
      "Use `tf.global_variables_initializer` instead.\n",
      "epoch: 0 completed out of 10 loss: 2217489.0557250977\n",
      "epoch: 1 completed out of 10 loss: 468948.08444595337\n",
      "epoch: 2 completed out of 10 loss: 263872.01471734047\n",
      "epoch: 3 completed out of 10 loss: 155424.13629466295\n",
      "epoch: 4 completed out of 10 loss: 94957.76594269276\n",
      "epoch: 5 completed out of 10 loss: 60414.42589896172\n",
      "epoch: 6 completed out of 10 loss: 41583.224096387625\n",
      "epoch: 7 completed out of 10 loss: 30487.03390559554\n",
      "epoch: 8 completed out of 10 loss: 22382.2382966028\n",
      "epoch: 9 completed out of 10 loss: 22737.104140728712\n",
      "accuracy: 0.9471\n"
     ]
    }
   ],
   "source": [
    "train_neural_network(x)"
   ]
  },
  {
   "cell_type": "code",
   "execution_count": null,
   "metadata": {
    "collapsed": true
   },
   "outputs": [],
   "source": []
  }
 ],
 "metadata": {
  "kernelspec": {
   "display_name": "Python 3",
   "language": "python",
   "name": "python3"
  },
  "language_info": {
   "codemirror_mode": {
    "name": "ipython",
    "version": 3
   },
   "file_extension": ".py",
   "mimetype": "text/x-python",
   "name": "python",
   "nbconvert_exporter": "python",
   "pygments_lexer": "ipython3",
   "version": "3.6.2"
  }
 },
 "nbformat": 4,
 "nbformat_minor": 2
}
